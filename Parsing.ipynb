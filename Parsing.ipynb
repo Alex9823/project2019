{
 "cells": [
  {
   "cell_type": "code",
   "execution_count": 2,
   "metadata": {},
   "outputs": [],
   "source": [
    "import pandas as pd\n",
    "import re"
   ]
  },
  {
   "cell_type": "code",
   "execution_count": 25,
   "metadata": {},
   "outputs": [],
   "source": [
    "import xml.etree.ElementTree as ET\n",
    "import csv\n",
    "\n",
    "tree = ET.parse(\"SentiRuEval_rest_train — копия.xml\")\n",
    "root = tree.getroot()\n",
    "\n",
    "scores_data = open('/Users/Asalamatina/Desktop/книга.csv', 'w')\n",
    "\n",
    "\n",
    "csvwriter = csv.writer(scores_data)\n",
    "scores_head = []\n",
    "\n",
    "count = 0\n",
    "for table in root.findall('review'):\n",
    "    variable = []\n",
    "    if count == 0:\n",
    "        Text = table.find('text').tag\n",
    "        scores_head.append(Text)\n",
    "        score1 = table[1].tag\n",
    "        score2 = table[1].tag\n",
    "        score3 = table[1].tag\n",
    "        scores_head.append(score1)\n",
    "        scores_head.append(score2)\n",
    "        scores_head.append(score3)\n",
    "        csvwriter.writerow(scores_head)\n",
    "        count = count + 1\n",
    "\n",
    "    Text = table.find('text').text\n",
    "    variable.append(Text)\n",
    "    score1 = table[1][0].text\n",
    "    variable.append(score1)\n",
    "    score2 = table[1][1].text\n",
    "    variable.append(score2)\n",
    "    score3 = table[1][2].text\n",
    "    variable.append(score3)\n",
    "    csvwriter.writerow(variable)\n",
    "scores_data.close()"
   ]
  },
  {
   "cell_type": "code",
   "execution_count": null,
   "metadata": {},
   "outputs": [],
   "source": []
  },
  {
   "cell_type": "code",
   "execution_count": null,
   "metadata": {},
   "outputs": [],
   "source": []
  },
  {
   "cell_type": "code",
   "execution_count": null,
   "metadata": {},
   "outputs": [],
   "source": []
  }
 ],
 "metadata": {
  "kernelspec": {
   "display_name": "Python 3",
   "language": "python",
   "name": "python3"
  },
  "language_info": {
   "codemirror_mode": {
    "name": "ipython",
    "version": 3
   },
   "file_extension": ".py",
   "mimetype": "text/x-python",
   "name": "python",
   "nbconvert_exporter": "python",
   "pygments_lexer": "ipython3",
   "version": "3.7.3"
  }
 },
 "nbformat": 4,
 "nbformat_minor": 2
}
