{
 "cells": [
  {
   "cell_type": "code",
   "execution_count": 27,
   "metadata": {},
   "outputs": [],
   "source": [
    "import os"
   ]
  },
  {
   "cell_type": "code",
   "execution_count": 28,
   "metadata": {},
   "outputs": [],
   "source": [
    "path='/Users/Asalamatina/Desktop/group_3'"
   ]
  },
  {
   "cell_type": "code",
   "execution_count": null,
   "metadata": {},
   "outputs": [],
   "source": []
  },
  {
   "cell_type": "code",
   "execution_count": 29,
   "metadata": {},
   "outputs": [
    {
     "name": "stdout",
     "output_type": "stream",
     "text": [
      "/Users/Asalamatina/Desktop/group_3/32856.txt.parsed\n",
      "/Users/Asalamatina/Desktop/group_3/37516.txt.parsed\n",
      "/Users/Asalamatina/Desktop/group_3/7079.txt.parsed\n",
      "/Users/Asalamatina/Desktop/group_3/28083.txt.parsed\n",
      "/Users/Asalamatina/Desktop/group_3/6668.txt.parsed\n",
      "/Users/Asalamatina/Desktop/group_3/24578.txt.parsed\n",
      "/Users/Asalamatina/Desktop/group_3/27629.txt.parsed\n",
      "/Users/Asalamatina/Desktop/group_3/7821.txt.parsed\n",
      "/Users/Asalamatina/Desktop/group_3/12341.txt.parsed\n",
      "/Users/Asalamatina/Desktop/group_3/20086.txt.parsed\n"
     ]
    }
   ],
   "source": [
    "for file in os.listdir(path):\n",
    "    filename = os.path.join(path, file)\n",
    "    if filename.endswith('parsed'):\n",
    "        print (filename)\n",
    "        with open(filename, 'r') as f:\n",
    "            text = f.read()\n",
    "        with open ('/Users/Asalamatina/Desktop/file.txt', 'a') as f2:\n",
    "            f2.write(text)\n",
    "        "
   ]
  },
  {
   "cell_type": "code",
   "execution_count": 30,
   "metadata": {},
   "outputs": [],
   "source": [
    "import pandas as pd"
   ]
  },
  {
   "cell_type": "code",
   "execution_count": 31,
   "metadata": {},
   "outputs": [],
   "source": [
    "corpus = pd.read_excel(\"corpus.xlsx\")"
   ]
  },
  {
   "cell_type": "code",
   "execution_count": 32,
   "metadata": {},
   "outputs": [
    {
     "data": {
      "text/html": [
       "<div>\n",
       "<style scoped>\n",
       "    .dataframe tbody tr th:only-of-type {\n",
       "        vertical-align: middle;\n",
       "    }\n",
       "\n",
       "    .dataframe tbody tr th {\n",
       "        vertical-align: top;\n",
       "    }\n",
       "\n",
       "    .dataframe thead th {\n",
       "        text-align: right;\n",
       "    }\n",
       "</style>\n",
       "<table border=\"1\" class=\"dataframe\">\n",
       "  <thead>\n",
       "    <tr style=\"text-align: right;\">\n",
       "      <th></th>\n",
       "      <th>Document ID</th>\n",
       "      <th>Text</th>\n",
       "    </tr>\n",
       "  </thead>\n",
       "  <tbody>\n",
       "    <tr>\n",
       "      <th>0</th>\n",
       "      <td>6668</td>\n",
       "      <td>Мы посетили этот замечательный ресторанчик поз...</td>\n",
       "    </tr>\n",
       "    <tr>\n",
       "      <th>1</th>\n",
       "      <td>7079</td>\n",
       "      <td>Возможно мне не посчастливилось, но ни один из...</td>\n",
       "    </tr>\n",
       "    <tr>\n",
       "      <th>2</th>\n",
       "      <td>7821</td>\n",
       "      <td>Очень испортился ресторан за последний год, це...</td>\n",
       "    </tr>\n",
       "    <tr>\n",
       "      <th>3</th>\n",
       "      <td>12341</td>\n",
       "      <td>Ходила туда вчера. Интерьер необычный, привлек...</td>\n",
       "    </tr>\n",
       "    <tr>\n",
       "      <th>4</th>\n",
       "      <td>20086</td>\n",
       "      <td>Неделю назад зашли посмотреть на новое заведен...</td>\n",
       "    </tr>\n",
       "    <tr>\n",
       "      <th>5</th>\n",
       "      <td>24578</td>\n",
       "      <td>Зашли в ресторан в выходной день случайно. Пос...</td>\n",
       "    </tr>\n",
       "    <tr>\n",
       "      <th>6</th>\n",
       "      <td>27629</td>\n",
       "      <td>Давно хотела посетить этот ресторан, т.к. очен...</td>\n",
       "    </tr>\n",
       "    <tr>\n",
       "      <th>7</th>\n",
       "      <td>28083</td>\n",
       "      <td>мы посетили ресторан 10 марта. впечатления ост...</td>\n",
       "    </tr>\n",
       "    <tr>\n",
       "      <th>8</th>\n",
       "      <td>32856</td>\n",
       "      <td>Сегодня мы всей семьей посетили ресторан Марче...</td>\n",
       "    </tr>\n",
       "    <tr>\n",
       "      <th>9</th>\n",
       "      <td>37516</td>\n",
       "      <td>Здравствуйте, Я отмечала свой день рожденья в ...</td>\n",
       "    </tr>\n",
       "  </tbody>\n",
       "</table>\n",
       "</div>"
      ],
      "text/plain": [
       "   Document ID                                               Text\n",
       "0         6668  Мы посетили этот замечательный ресторанчик поз...\n",
       "1         7079  Возможно мне не посчастливилось, но ни один из...\n",
       "2         7821  Очень испортился ресторан за последний год, це...\n",
       "3        12341  Ходила туда вчера. Интерьер необычный, привлек...\n",
       "4        20086  Неделю назад зашли посмотреть на новое заведен...\n",
       "5        24578  Зашли в ресторан в выходной день случайно. Пос...\n",
       "6        27629  Давно хотела посетить этот ресторан, т.к. очен...\n",
       "7        28083  мы посетили ресторан 10 марта. впечатления ост...\n",
       "8        32856  Сегодня мы всей семьей посетили ресторан Марче...\n",
       "9        37516  Здравствуйте, Я отмечала свой день рожденья в ..."
      ]
     },
     "execution_count": 32,
     "metadata": {},
     "output_type": "execute_result"
    }
   ],
   "source": [
    "corpus"
   ]
  },
  {
   "cell_type": "code",
   "execution_count": 33,
   "metadata": {},
   "outputs": [],
   "source": [
    "import re\n",
    "texts = []\n",
    "for i in corpus['Text']:\n",
    "    i = re.sub('\\\\[.*?\\\\]', '', i)\n",
    "    i = re.sub('\\n', ' ', i)\n",
    "    i = re.sub('\\s+', ' ', i).lower()\n",
    "    texts.append(re.sub(r'©.*', '', i))"
   ]
  },
  {
   "cell_type": "code",
   "execution_count": 34,
   "metadata": {},
   "outputs": [],
   "source": [
    "from collections import defaultdict\n",
    "def get_fdict(string):\n",
    "    corp = defaultdict(int)\n",
    "    word_arr = string.split(' ')\n",
    "    corp_l = len(word_arr)\n",
    "    for i in word_arr:\n",
    "        if i != '':\n",
    "            corp[i] += 1\n",
    "    for k in corp:\n",
    "        corp[k] = corp[k]/corp_l\n",
    "    return corp"
   ]
  },
  {
   "cell_type": "code",
   "execution_count": 35,
   "metadata": {},
   "outputs": [
    {
     "data": {
      "text/plain": [
       "' мы посетили этот замечательный ресторанчик поздним вечером, ближе к полуночи, когда уже нигде не кормили по-настоящему. несмотря на плохую погоду, мы пытались показать приехавшим в гости родственникам (молодоженам) все красоты нашего города, включая белые ночи. \"квартиру №55\" выбрали из-за располож'"
      ]
     },
     "execution_count": 35,
     "metadata": {},
     "output_type": "execute_result"
    }
   ],
   "source": [
    "text = ''\n",
    "for i in texts:\n",
    "    text = text + ' ' + i\n",
    "text[:300]"
   ]
  },
  {
   "cell_type": "code",
   "execution_count": 36,
   "metadata": {},
   "outputs": [],
   "source": [
    "corp = get_fdict(text)"
   ]
  },
  {
   "cell_type": "code",
   "execution_count": 37,
   "metadata": {},
   "outputs": [],
   "source": [
    "def get_tfidf(posts, corp):\n",
    "    arr = []\n",
    "    for post in posts:\n",
    "        tf_dict = get_fdict(post)\n",
    "        tfidf_dict = {}\n",
    "        for k in tf_dict:\n",
    "            if k != '':\n",
    "                tfidf_dict[k] = tf_dict[k]*(1/corp[k])\n",
    "        d = sorted(tfidf_dict.items(), key=lambda i: i[1])[-5:]\n",
    "        arr.append(d)\n",
    "    return arr"
   ]
  },
  {
   "cell_type": "code",
   "execution_count": 38,
   "metadata": {},
   "outputs": [],
   "source": [
    "result = get_tfidf(texts, corp)"
   ]
  },
  {
   "cell_type": "code",
   "execution_count": 39,
   "metadata": {},
   "outputs": [
    {
     "data": {
      "text/plain": [
       "[[('ресторана,', 7.2288557213930345),\n",
       "  ('сделал', 7.2288557213930345),\n",
       "  ('поздний', 7.2288557213930345),\n",
       "  ('таким', 7.2288557213930345),\n",
       "  ('приятным!', 7.2288557213930345)],\n",
       " [('друзьям', 9.62251655629139),\n",
       "  ('поехали', 9.62251655629139),\n",
       "  ('ходим', 9.62251655629139),\n",
       "  ('ходить', 9.62251655629139),\n",
       "  ('рекомендую.....', 9.62251655629139)],\n",
       " [('чаевые.', 7.811827956989248),\n",
       "  ('p.s', 7.811827956989248),\n",
       "  ('приличное', 7.811827956989248),\n",
       "  ('место', 7.811827956989248),\n",
       "  ('испортилось', 7.811827956989248)],\n",
       " [('общем', 12.973214285714285),\n",
       "  ('восторге', 12.973214285714285),\n",
       "  ('этого', 12.973214285714285),\n",
       "  ('заведения,', 12.973214285714285),\n",
       "  ('пойду.', 12.973214285714285)],\n",
       " [('надо', 11.531746031746032),\n",
       "  ('зайти', 11.531746031746032),\n",
       "  ('чтобы', 11.531746031746032),\n",
       "  ('динамику', 11.531746031746032),\n",
       "  ('развития...', 11.531746031746032)],\n",
       " [('оливковое.', 11.71774193548387),\n",
       "  ('вкусное.', 11.71774193548387),\n",
       "  ('желаю', 11.71774193548387),\n",
       "  ('приятного', 11.71774193548387),\n",
       "  ('времяпровождения.', 11.71774193548387)],\n",
       " [('положительного', 11.624),\n",
       "  ('интерьер.', 11.624),\n",
       "  ('удобная', 11.624),\n",
       "  ('заведение', 11.624),\n",
       "  ('пойдем.', 11.624)],\n",
       " [('обязательно', 8.75301204819277),\n",
       "  ('приходить', 8.75301204819277),\n",
       "  ('сюда', 8.75301204819277),\n",
       "  ('ещеи', 8.75301204819277),\n",
       "  ('еще!', 8.75301204819277)],\n",
       " [('малышам', 7.375634517766497),\n",
       "  ('настолько', 7.375634517766497),\n",
       "  ('еле', 7.375634517766497),\n",
       "  ('увели', 7.375634517766497),\n",
       "  ('домой))))', 7.375634517766497)],\n",
       " [('праздничная', 22.703125),\n",
       "  ('советую', 22.703125),\n",
       "  ('всем', 22.703125),\n",
       "  ('побывать', 22.703125),\n",
       "  ('здесь.', 22.703125)]]"
      ]
     },
     "execution_count": 39,
     "metadata": {},
     "output_type": "execute_result"
    }
   ],
   "source": [
    "result"
   ]
  },
  {
   "cell_type": "code",
   "execution_count": 40,
   "metadata": {},
   "outputs": [],
   "source": [
    "import gensim"
   ]
  },
  {
   "cell_type": "code",
   "execution_count": 41,
   "metadata": {},
   "outputs": [
    {
     "name": "stdout",
     "output_type": "stream",
     "text": [
      "вкусно_ADV 0.6860852241516113\n",
      "превкусный_ADJ 0.6767007112503052\n",
      "заварной::крем_NOUN 0.6534788012504578\n",
      "невкусный_ADJ 0.6508849859237671\n",
      "ароматный_ADJ 0.6484694480895996\n",
      "сытный_ADJ 0.64444899559021\n",
      "овощной::рагу_NOUN 0.6366676092147827\n",
      "нардек_NOUN 0.6289758086204529\n",
      "отбивной::котлета_NOUN 0.6250420212745667\n",
      "сулугуни_NOUN 0.6163603663444519\n"
     ]
    }
   ],
   "source": [
    "model = gensim.models.KeyedVectors.load_word2vec_format('ruscorpora_1_300_10 2.bin', binary=True)\n",
    "for n in model.most_similar(positive=[u'вкусный_ADJ']):\n",
    "    print (n[0], n[1])"
   ]
  },
  {
   "cell_type": "code",
   "execution_count": null,
   "metadata": {},
   "outputs": [],
   "source": []
  }
 ],
 "metadata": {
  "kernelspec": {
   "display_name": "Python 3",
   "language": "python",
   "name": "python3"
  },
  "language_info": {
   "codemirror_mode": {
    "name": "ipython",
    "version": 3
   },
   "file_extension": ".py",
   "mimetype": "text/x-python",
   "name": "python",
   "nbconvert_exporter": "python",
   "pygments_lexer": "ipython3",
   "version": "3.7.3"
  }
 },
 "nbformat": 4,
 "nbformat_minor": 2
}
